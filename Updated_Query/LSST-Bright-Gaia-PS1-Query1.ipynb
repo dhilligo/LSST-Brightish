{
 "cells": [
  {
   "cell_type": "markdown",
   "metadata": {},
   "source": [
    "This notebook will query/join Gaia and PS1 to get g,r,i,z,y photometry for bright stars. We'll put the query part in this notebook and develop another notebook to make the plots. "
   ]
  },
  {
   "cell_type": "code",
   "execution_count": 43,
   "metadata": {},
   "outputs": [],
   "source": [
    "import matplotlib.pyplot as plt\n",
    "import numpy as np"
   ]
  },
  {
   "cell_type": "code",
   "execution_count": 44,
   "metadata": {},
   "outputs": [],
   "source": [
    "from astroquery.gaia import Gaia \n"
   ]
  },
  {
   "cell_type": "code",
   "execution_count": 45,
   "metadata": {},
   "outputs": [
    {
     "name": "stdout",
     "output_type": "stream",
     "text": [
      "INFO: Retrieving tables... [astroquery.utils.tap.core]\n",
      "INFO: Parsing tables... [astroquery.utils.tap.core]\n",
      "INFO: Done. [astroquery.utils.tap.core]\n"
     ]
    }
   ],
   "source": [
    "tables = Gaia.load_tables(only_names=True)"
   ]
  },
  {
   "cell_type": "code",
   "execution_count": 46,
   "metadata": {},
   "outputs": [
    {
     "name": "stdout",
     "output_type": "stream",
     "text": [
      "external.external.apassdr9\n",
      "external.external.gaiadr2_geometric_distance\n",
      "external.external.gaiaedr3_distance\n",
      "external.external.galex_ais\n",
      "external.external.ravedr5_com\n",
      "external.external.ravedr5_dr5\n",
      "external.external.ravedr5_gra\n",
      "external.external.ravedr5_on\n",
      "external.external.sdssdr13_photoprimary\n",
      "external.external.skymapperdr1_master\n",
      "external.external.skymapperdr2_master\n",
      "external.external.tmass_xsc\n",
      "public.public.hipparcos\n",
      "public.public.hipparcos_newreduction\n",
      "public.public.hubble_sc\n",
      "public.public.igsl_source\n",
      "public.public.igsl_source_catalog_ids\n",
      "public.public.tycho2\n",
      "public.public.dual\n",
      "tap_config.tap_config.coord_sys\n",
      "tap_config.tap_config.properties\n",
      "tap_schema.tap_schema.columns\n",
      "tap_schema.tap_schema.key_columns\n",
      "tap_schema.tap_schema.keys\n",
      "tap_schema.tap_schema.schemas\n",
      "tap_schema.tap_schema.tables\n",
      "gaiaedr3.gaiaedr3.gaia_source\n",
      "gaiaedr3.gaiaedr3.agn_cross_id\n",
      "gaiaedr3.gaiaedr3.commanded_scan_law\n",
      "gaiaedr3.gaiaedr3.dr2_neighbourhood\n",
      "gaiaedr3.gaiaedr3.frame_rotator_source\n",
      "gaiaedr3.gaiaedr3.allwise_best_neighbour\n",
      "gaiaedr3.gaiaedr3.allwise_neighbourhood\n",
      "gaiaedr3.gaiaedr3.apassdr9_best_neighbour\n",
      "gaiaedr3.gaiaedr3.apassdr9_join\n",
      "gaiaedr3.gaiaedr3.apassdr9_neighbourhood\n",
      "gaiaedr3.gaiaedr3.gsc23_best_neighbour\n",
      "gaiaedr3.gaiaedr3.gsc23_join\n",
      "gaiaedr3.gaiaedr3.gsc23_neighbourhood\n",
      "gaiaedr3.gaiaedr3.hipparcos2_best_neighbour\n",
      "gaiaedr3.gaiaedr3.hipparcos2_neighbourhood\n",
      "gaiaedr3.gaiaedr3.panstarrs1_best_neighbour\n",
      "gaiaedr3.gaiaedr3.panstarrs1_join\n",
      "gaiaedr3.gaiaedr3.panstarrs1_neighbourhood\n",
      "gaiaedr3.gaiaedr3.ravedr5_best_neighbour\n",
      "gaiaedr3.gaiaedr3.ravedr5_join\n",
      "gaiaedr3.gaiaedr3.ravedr5_neighbourhood\n",
      "gaiaedr3.gaiaedr3.sdssdr13_best_neighbour\n",
      "gaiaedr3.gaiaedr3.sdssdr13_join\n",
      "gaiaedr3.gaiaedr3.sdssdr13_neighbourhood\n",
      "gaiaedr3.gaiaedr3.skymapperdr2_best_neighbour\n",
      "gaiaedr3.gaiaedr3.skymapperdr2_join\n",
      "gaiaedr3.gaiaedr3.skymapperdr2_neighbourhood\n",
      "gaiaedr3.gaiaedr3.tmass_psc_xsc_best_neighbour\n",
      "gaiaedr3.gaiaedr3.tmass_psc_xsc_join\n",
      "gaiaedr3.gaiaedr3.tmass_psc_xsc_neighbourhood\n",
      "gaiaedr3.gaiaedr3.tycho2tdsc_merge_best_neighbour\n",
      "gaiaedr3.gaiaedr3.tycho2tdsc_merge_neighbourhood\n",
      "gaiaedr3.gaiaedr3.urat1_best_neighbour\n",
      "gaiaedr3.gaiaedr3.urat1_neighbourhood\n",
      "gaiaedr3.gaiaedr3.gaia_source_simulation\n",
      "gaiaedr3.gaiaedr3.gaia_universe_model\n",
      "gaiaedr3.gaiaedr3.tycho2tdsc_merge\n",
      "gaiadr1.gaiadr1.aux_qso_icrf2_match\n",
      "gaiadr1.gaiadr1.ext_phot_zero_point\n",
      "gaiadr1.gaiadr1.allwise_best_neighbour\n",
      "gaiadr1.gaiadr1.allwise_neighbourhood\n",
      "gaiadr1.gaiadr1.gsc23_best_neighbour\n",
      "gaiadr1.gaiadr1.gsc23_neighbourhood\n",
      "gaiadr1.gaiadr1.ppmxl_best_neighbour\n",
      "gaiadr1.gaiadr1.ppmxl_neighbourhood\n",
      "gaiadr1.gaiadr1.sdss_dr9_best_neighbour\n",
      "gaiadr1.gaiadr1.sdss_dr9_neighbourhood\n",
      "gaiadr1.gaiadr1.tmass_best_neighbour\n",
      "gaiadr1.gaiadr1.tmass_neighbourhood\n",
      "gaiadr1.gaiadr1.ucac4_best_neighbour\n",
      "gaiadr1.gaiadr1.ucac4_neighbourhood\n",
      "gaiadr1.gaiadr1.urat1_best_neighbour\n",
      "gaiadr1.gaiadr1.urat1_neighbourhood\n",
      "gaiadr1.gaiadr1.cepheid\n",
      "gaiadr1.gaiadr1.phot_variable_time_series_gfov\n",
      "gaiadr1.gaiadr1.phot_variable_time_series_gfov_statistical_parameters\n",
      "gaiadr1.gaiadr1.rrlyrae\n",
      "gaiadr1.gaiadr1.variable_summary\n",
      "gaiadr1.gaiadr1.allwise_original_valid\n",
      "gaiadr1.gaiadr1.gsc23_original_valid\n",
      "gaiadr1.gaiadr1.ppmxl_original_valid\n",
      "gaiadr1.gaiadr1.sdssdr9_original_valid\n",
      "gaiadr1.gaiadr1.tmass_original_valid\n",
      "gaiadr1.gaiadr1.ucac4_original_valid\n",
      "gaiadr1.gaiadr1.urat1_original_valid\n",
      "gaiadr1.gaiadr1.gaia_source\n",
      "gaiadr1.gaiadr1.tgas_source\n",
      "gaiadr2.gaiadr2.aux_allwise_agn_gdr2_cross_id\n",
      "gaiadr2.gaiadr2.aux_iers_gdr2_cross_id\n",
      "gaiadr2.gaiadr2.aux_sso_orbit_residuals\n",
      "gaiadr2.gaiadr2.aux_sso_orbits\n",
      "gaiadr2.gaiadr2.dr1_neighbourhood\n",
      "gaiadr2.gaiadr2.allwise_best_neighbour\n",
      "gaiadr2.gaiadr2.allwise_neighbourhood\n",
      "gaiadr2.gaiadr2.apassdr9_best_neighbour\n",
      "gaiadr2.gaiadr2.apassdr9_neighbourhood\n",
      "gaiadr2.gaiadr2.gsc23_best_neighbour\n",
      "gaiadr2.gaiadr2.gsc23_neighbourhood\n",
      "gaiadr2.gaiadr2.hipparcos2_best_neighbour\n",
      "gaiadr2.gaiadr2.hipparcos2_neighbourhood\n",
      "gaiadr2.gaiadr2.panstarrs1_best_neighbour\n",
      "gaiadr2.gaiadr2.panstarrs1_neighbourhood\n",
      "gaiadr2.gaiadr2.ppmxl_best_neighbour\n",
      "gaiadr2.gaiadr2.ppmxl_neighbourhood\n",
      "gaiadr2.gaiadr2.ravedr5_best_neighbour\n",
      "gaiadr2.gaiadr2.ravedr5_neighbourhood\n",
      "gaiadr2.gaiadr2.sdssdr9_best_neighbour\n",
      "gaiadr2.gaiadr2.sdssdr9_neighbourhood\n",
      "gaiadr2.gaiadr2.tmass_best_neighbour\n",
      "gaiadr2.gaiadr2.tmass_neighbourhood\n",
      "gaiadr2.gaiadr2.tycho2_best_neighbour\n",
      "gaiadr2.gaiadr2.tycho2_neighbourhood\n",
      "gaiadr2.gaiadr2.urat1_best_neighbour\n",
      "gaiadr2.gaiadr2.urat1_neighbourhood\n",
      "gaiadr2.gaiadr2.sso_observation\n",
      "gaiadr2.gaiadr2.sso_source\n",
      "gaiadr2.gaiadr2.vari_cepheid\n",
      "gaiadr2.gaiadr2.vari_classifier_class_definition\n",
      "gaiadr2.gaiadr2.vari_classifier_definition\n",
      "gaiadr2.gaiadr2.vari_classifier_result\n",
      "gaiadr2.gaiadr2.vari_long_period_variable\n",
      "gaiadr2.gaiadr2.vari_rotation_modulation\n",
      "gaiadr2.gaiadr2.vari_rrlyrae\n",
      "gaiadr2.gaiadr2.vari_short_timescale\n",
      "gaiadr2.gaiadr2.vari_time_series_statistics\n",
      "gaiadr2.gaiadr2.panstarrs1_original_valid\n",
      "gaiadr2.gaiadr2.gaia_source\n",
      "gaiadr2.gaiadr2.ruwe\n"
     ]
    }
   ],
   "source": [
    "for table in tables:\n",
    "    print(table.get_qualified_name())"
   ]
  },
  {
   "cell_type": "code",
   "execution_count": 47,
   "metadata": {},
   "outputs": [
    {
     "name": "stdout",
     "output_type": "stream",
     "text": [
      "Retrieving table 'gaiaedr3.gaia_source'\n"
     ]
    }
   ],
   "source": [
    "meta=Gaia.load_table('gaiaedr3.gaia_source') "
   ]
  },
  {
   "cell_type": "code",
   "execution_count": 48,
   "metadata": {},
   "outputs": [
    {
     "name": "stdout",
     "output_type": "stream",
     "text": [
      "TAP Table name: gaiaedr3.gaiaedr3.gaia_source\n",
      "Description: This table has an entry for every Gaia observed source as listed in the\n",
      "Main Database accumulating catalogue version from which the catalogue\n",
      "release has been generated. It contains the basic source parameters,\n",
      "that is only final data (no epoch data) and no spectra (neither final\n",
      "nor epoch).\n",
      "Num. columns: 99\n"
     ]
    }
   ],
   "source": [
    "print(meta)"
   ]
  },
  {
   "cell_type": "code",
   "execution_count": 49,
   "metadata": {},
   "outputs": [
    {
     "name": "stdout",
     "output_type": "stream",
     "text": [
      "solution_id\n",
      "designation\n",
      "source_id\n",
      "random_index\n",
      "ref_epoch\n",
      "ra\n",
      "ra_error\n",
      "dec\n",
      "dec_error\n",
      "parallax\n",
      "parallax_error\n",
      "parallax_over_error\n",
      "pm\n",
      "pmra\n",
      "pmra_error\n",
      "pmdec\n",
      "pmdec_error\n",
      "ra_dec_corr\n",
      "ra_parallax_corr\n",
      "ra_pmra_corr\n",
      "ra_pmdec_corr\n",
      "dec_parallax_corr\n",
      "dec_pmra_corr\n",
      "dec_pmdec_corr\n",
      "parallax_pmra_corr\n",
      "parallax_pmdec_corr\n",
      "pmra_pmdec_corr\n",
      "astrometric_n_obs_al\n",
      "astrometric_n_obs_ac\n",
      "astrometric_n_good_obs_al\n",
      "astrometric_n_bad_obs_al\n",
      "astrometric_gof_al\n",
      "astrometric_chi2_al\n",
      "astrometric_excess_noise\n",
      "astrometric_excess_noise_sig\n",
      "astrometric_params_solved\n",
      "astrometric_primary_flag\n",
      "nu_eff_used_in_astrometry\n",
      "pseudocolour\n",
      "pseudocolour_error\n",
      "ra_pseudocolour_corr\n",
      "dec_pseudocolour_corr\n",
      "parallax_pseudocolour_corr\n",
      "pmra_pseudocolour_corr\n",
      "pmdec_pseudocolour_corr\n",
      "astrometric_matched_transits\n",
      "visibility_periods_used\n",
      "astrometric_sigma5d_max\n",
      "matched_transits\n",
      "new_matched_transits\n",
      "matched_transits_removed\n",
      "ipd_gof_harmonic_amplitude\n",
      "ipd_gof_harmonic_phase\n",
      "ipd_frac_multi_peak\n",
      "ipd_frac_odd_win\n",
      "ruwe\n",
      "scan_direction_strength_k1\n",
      "scan_direction_strength_k2\n",
      "scan_direction_strength_k3\n",
      "scan_direction_strength_k4\n",
      "scan_direction_mean_k1\n",
      "scan_direction_mean_k2\n",
      "scan_direction_mean_k3\n",
      "scan_direction_mean_k4\n",
      "duplicated_source\n",
      "phot_g_n_obs\n",
      "phot_g_mean_flux\n",
      "phot_g_mean_flux_error\n",
      "phot_g_mean_flux_over_error\n",
      "phot_g_mean_mag\n",
      "phot_bp_n_obs\n",
      "phot_bp_mean_flux\n",
      "phot_bp_mean_flux_error\n",
      "phot_bp_mean_flux_over_error\n",
      "phot_bp_mean_mag\n",
      "phot_rp_n_obs\n",
      "phot_rp_mean_flux\n",
      "phot_rp_mean_flux_error\n",
      "phot_rp_mean_flux_over_error\n",
      "phot_rp_mean_mag\n",
      "phot_bp_n_contaminated_transits\n",
      "phot_bp_n_blended_transits\n",
      "phot_rp_n_contaminated_transits\n",
      "phot_rp_n_blended_transits\n",
      "phot_proc_mode\n",
      "phot_bp_rp_excess_factor\n",
      "bp_rp\n",
      "bp_g\n",
      "g_rp\n",
      "dr2_radial_velocity\n",
      "dr2_radial_velocity_error\n",
      "dr2_rv_nb_transits\n",
      "dr2_rv_template_teff\n",
      "dr2_rv_template_logg\n",
      "dr2_rv_template_fe_h\n",
      "l\n",
      "b\n",
      "ecl_lon\n",
      "ecl_lat\n"
     ]
    }
   ],
   "source": [
    "for column in meta.columns:\n",
    "    print(column.name)"
   ]
  },
  {
   "cell_type": "code",
   "execution_count": 50,
   "metadata": {},
   "outputs": [
    {
     "name": "stdout",
     "output_type": "stream",
     "text": [
      "Retrieving table 'gaiaedr3.panstarrs1_join'\n",
      "original_ext_source_id\n",
      "clean_panstarrs1_oid\n"
     ]
    }
   ],
   "source": [
    "meta2=Gaia.load_table('gaiaedr3.panstarrs1_join')\n",
    "for column in meta2.columns:\n",
    "    print(column.name)"
   ]
  },
  {
   "cell_type": "code",
   "execution_count": 51,
   "metadata": {},
   "outputs": [
    {
     "name": "stdout",
     "output_type": "stream",
     "text": [
      "Retrieving table 'gaiadr2.panstarrs1_original_valid'\n",
      "obj_name\n",
      "obj_id\n",
      "ra\n",
      "dec\n",
      "ra_error\n",
      "dec_error\n",
      "epoch_mean\n",
      "g_mean_psf_mag\n",
      "g_mean_psf_mag_error\n",
      "g_flags\n",
      "r_mean_psf_mag\n",
      "r_mean_psf_mag_error\n",
      "r_flags\n",
      "i_mean_psf_mag\n",
      "i_mean_psf_mag_error\n",
      "i_flags\n",
      "z_mean_psf_mag\n",
      "z_mean_psf_mag_error\n",
      "z_flags\n",
      "y_mean_psf_mag\n",
      "y_mean_psf_mag_error\n",
      "y_flags\n",
      "n_detections\n",
      "zone_id\n",
      "obj_info_flag\n",
      "quality_flag\n"
     ]
    }
   ],
   "source": [
    "meta3=Gaia.load_table('gaiadr2.panstarrs1_original_valid')\n",
    "for column in meta3.columns:\n",
    "    print(column.name)"
   ]
  },
  {
   "cell_type": "code",
   "execution_count": 52,
   "metadata": {},
   "outputs": [],
   "source": [
    "# set limits for query\n",
    "min_parallax_ratio = 20\n",
    "min_brightness = 12\n",
    "how_many = 100\n",
    "#dec<0 is hardcoded right now. No ra limit but could add"
   ]
  },
  {
   "cell_type": "code",
   "execution_count": 53,
   "metadata": {},
   "outputs": [],
   "source": [
    "query_edr3_base=\"\"\"select TOP {how_many}\n",
    "  gaiaedr3.gaia_source.source_id,\n",
    "  gaiaedr3.gaia_source.ra,\n",
    "  gaiaedr3.gaia_source.dec,\n",
    "  gaiaedr3.gaia_source.parallax,\n",
    "  gaiaedr3.gaia_source.parallax_error,\n",
    "  gaiaedr3.gaia_source.parallax_over_error,\n",
    "  gaiaedr3.gaia_source.pm,\n",
    "  gaiaedr3.gaia_source.pmra,\n",
    "  gaiaedr3.gaia_source.pmra_error,\n",
    "  gaiaedr3.gaia_source.pmdec,\n",
    "  gaiaedr3.gaia_source.pmdec_error,\n",
    "  gaiaedr3.gaia_source.phot_g_mean_mag,\n",
    "  gaiaedr3.gaia_source.bp_rp,\n",
    "  gaiaedr3.gaia_source.l,\n",
    "  gaiaedr3.gaia_source.b,\n",
    "  ps.g_mean_psf_mag,\n",
    "  ps.r_mean_psf_mag,\n",
    "  ps.i_mean_psf_mag,\n",
    "  ps.z_mean_psf_mag,\n",
    "  ps.y_mean_psf_mag\n",
    "from gaiaedr3.gaia_source \n",
    "-- panstarrs\n",
    "join gaiaedr3.panstarrs1_best_neighbour\n",
    "  on gaiaedr3.panstarrs1_best_neighbour.source_id=gaiaedr3.gaia_source.source_id\n",
    "join gaiadr2.panstarrs1_original_valid as ps\n",
    "  on ps.obj_id = gaiaedr3.panstarrs1_best_neighbour.original_ext_source_id\n",
    "WHERE\n",
    " gaiaedr3.gaia_source.parallax_over_error > {min_error} and\n",
    " gaiaedr3.gaia_source.dec < 0 and\n",
    " gaiaedr3.gaia_source.phot_g_mean_mag > {min_brightness}\n",
    "  \"\"\"\n",
    "\n"
   ]
  },
  {
   "cell_type": "code",
   "execution_count": 54,
   "metadata": {},
   "outputs": [],
   "source": [
    "query_edr3 = query_edr3_base.format(how_many=how_many,min_brightness=min_brightness,min_error=min_parallax_ratio)"
   ]
  },
  {
   "cell_type": "code",
   "execution_count": 55,
   "metadata": {},
   "outputs": [
    {
     "name": "stdout",
     "output_type": "stream",
     "text": [
      "select TOP 100\n",
      "  gaiaedr3.gaia_source.source_id,\n",
      "  gaiaedr3.gaia_source.ra,\n",
      "  gaiaedr3.gaia_source.dec,\n",
      "  gaiaedr3.gaia_source.parallax,\n",
      "  gaiaedr3.gaia_source.parallax_error,\n",
      "  gaiaedr3.gaia_source.parallax_over_error,\n",
      "  gaiaedr3.gaia_source.pm,\n",
      "  gaiaedr3.gaia_source.pmra,\n",
      "  gaiaedr3.gaia_source.pmra_error,\n",
      "  gaiaedr3.gaia_source.pmdec,\n",
      "  gaiaedr3.gaia_source.pmdec_error,\n",
      "  gaiaedr3.gaia_source.phot_g_mean_mag,\n",
      "  gaiaedr3.gaia_source.bp_rp,\n",
      "  gaiaedr3.gaia_source.l,\n",
      "  gaiaedr3.gaia_source.b,\n",
      "  ps.g_mean_psf_mag,\n",
      "  ps.r_mean_psf_mag,\n",
      "  ps.i_mean_psf_mag,\n",
      "  ps.z_mean_psf_mag,\n",
      "  ps.y_mean_psf_mag\n",
      "from gaiaedr3.gaia_source \n",
      "-- panstarrs\n",
      "join gaiaedr3.panstarrs1_best_neighbour\n",
      "  on gaiaedr3.panstarrs1_best_neighbour.source_id=gaiaedr3.gaia_source.source_id\n",
      "join gaiadr2.panstarrs1_original_valid as ps\n",
      "  on ps.obj_id = gaiaedr3.panstarrs1_best_neighbour.original_ext_source_id\n",
      "WHERE\n",
      " gaiaedr3.gaia_source.parallax_over_error > 20 and\n",
      " gaiaedr3.gaia_source.dec < 0 and\n",
      " gaiaedr3.gaia_source.phot_g_mean_mag > 12\n",
      "  \n"
     ]
    }
   ],
   "source": [
    "print(query_edr3)"
   ]
  },
  {
   "cell_type": "code",
   "execution_count": 56,
   "metadata": {},
   "outputs": [
    {
     "name": "stdout",
     "output_type": "stream",
     "text": [
      "INFO: Query finished. [astroquery.utils.tap.core]\n"
     ]
    }
   ],
   "source": [
    "job  = Gaia.launch_job_async(query_edr3)\n"
   ]
  },
  {
   "cell_type": "code",
   "execution_count": 57,
   "metadata": {},
   "outputs": [],
   "source": [
    "results=job.get_results()"
   ]
  },
  {
   "cell_type": "code",
   "execution_count": 58,
   "metadata": {
    "scrolled": true
   },
   "outputs": [
    {
     "data": {
      "text/html": [
       "<i>Table masked=True length=100</i>\n",
       "<table id=\"table140204422317072\" class=\"table-striped table-bordered table-condensed\">\n",
       "<thead><tr><th>source_id</th><th>ra</th><th>dec</th><th>parallax</th><th>parallax_error</th><th>parallax_over_error</th><th>pm</th><th>pmra</th><th>pmra_error</th><th>pmdec</th><th>pmdec_error</th><th>phot_g_mean_mag</th><th>bp_rp</th><th>l</th><th>b</th><th>g_mean_psf_mag</th><th>r_mean_psf_mag</th><th>i_mean_psf_mag</th><th>z_mean_psf_mag</th><th>y_mean_psf_mag</th></tr></thead>\n",
       "<thead><tr><th></th><th>deg</th><th>deg</th><th>mas</th><th>mas</th><th></th><th>mas / yr</th><th>mas / yr</th><th>mas / yr</th><th>mas / yr</th><th>mas / yr</th><th>mag</th><th>mag</th><th>deg</th><th>deg</th><th></th><th>mag</th><th>mag</th><th>mag</th><th>mag</th></tr></thead>\n",
       "<thead><tr><th>int64</th><th>float64</th><th>float64</th><th>float64</th><th>float32</th><th>float32</th><th>float32</th><th>float64</th><th>float32</th><th>float64</th><th>float32</th><th>float32</th><th>float32</th><th>float64</th><th>float64</th><th>float64</th><th>float64</th><th>float64</th><th>float64</th><th>float64</th></tr></thead>\n",
       "<tr><td>4063470555986293632</td><td>268.2722690750943</td><td>-27.840792649974965</td><td>0.8603942336373175</td><td>0.0430197</td><td>20.000006</td><td>4.80378</td><td>-3.536185495266666</td><td>0.05039518</td><td>-3.2514146212341695</td><td>0.031694952</td><td>16.057327</td><td>1.2159605</td><td>1.7844034336897427</td><td>-0.8451794430770536</td><td>16.7359008789063</td><td>16.0431003570557</td><td>15.7800998687744</td><td>15.6681995391846</td><td>15.5841999053955</td></tr>\n",
       "<tr><td>4075924930328092928</td><td>279.156157491139</td><td>-26.245544915444775</td><td>1.8075668270434355</td><td>0.090378314</td><td>20.000006</td><td>16.804075</td><td>15.116230487733892</td><td>0.09697113</td><td>-7.34006069620196</td><td>0.077117346</td><td>16.76521</td><td>2.018447</td><td>7.794098821232397</td><td>-8.631934819903805</td><td>18.2322006225586</td><td>16.8859004974365</td><td>16.1949996948242</td><td>15.8035001754761</td><td>15.5785999298096</td></tr>\n",
       "<tr><td>5736155980334693376</td><td>137.33281517932804</td><td>-11.695644712582691</td><td>1.1258811864223772</td><td>0.05629404</td><td>20.000008</td><td>10.357205</td><td>-9.16708470869996</td><td>0.05747617</td><td>-4.820399707838051</td><td>0.03867653</td><td>16.370586</td><td>1.4076071</td><td>241.14813245685508</td><td>23.632003038318526</td><td>17.2577991485596</td><td>16.3339996337891</td><td>15.9682998657227</td><td>15.8284997940063</td><td>15.7175998687744</td></tr>\n",
       "<tr><td>4079718584693480832</td><td>281.1446628064845</td><td>-21.726908891576173</td><td>0.8128454435085273</td><td>0.040642254</td><td>20.00001</td><td>5.7944155</td><td>2.2856702813223357</td><td>0.04545202</td><td>-5.324562283917929</td><td>0.0399288</td><td>15.855675</td><td>1.2226267</td><td>12.704906587571381</td><td>-8.282666418301567</td><td>16.5265998840332</td><td>15.8746995925903</td><td>15.5675001144409</td><td>15.3905000686646</td><td>15.3156003952026</td></tr>\n",
       "<tr><td>5476197758984671488</td><td>156.37795558859148</td><td>-20.571890828222948</td><td>0.5840077552092299</td><td>0.029200371</td><td>20.000011</td><td>12.663553</td><td>-12.65189529924877</td><td>0.02829662</td><td>-0.5432627238927306</td><td>0.026026024</td><td>14.805334</td><td>0.83087826</td><td>262.6147472007607</td><td>30.64631846206042</td><td>15.1787004470825</td><td>14.7915000915527</td><td>14.6577997207642</td><td>14.6284999847412</td><td>14.5935001373291</td></tr>\n",
       "<tr><td>5716198229391345920</td><td>113.8214208677862</td><td>-20.653171160371315</td><td>0.6647400808633399</td><td>0.033236984</td><td>20.000013</td><td>1.9327742</td><td>-1.7771551418775955</td><td>0.032549262</td><td>-0.7598260611996577</td><td>0.035243567</td><td>15.652907</td><td>1.0306778</td><td>236.20070004584394</td><td>-0.14147387478536877</td><td>16.1961994171143</td><td>15.6356000900269</td><td>15.4328002929688</td><td>15.3416996002197</td><td>15.266900062561</td></tr>\n",
       "<tr><td>2894901622152885888</td><td>97.39404455278382</td><td>-30.21888530039131</td><td>2.3017506434995245</td><td>0.11508744</td><td>20.000015</td><td>18.662031</td><td>2.3725889236053597</td><td>0.10909901</td><td>18.510597674426172</td><td>0.12114747</td><td>18.379047</td><td>2.644125</td><td>238.43852257995</td><td>-17.62266090242924</td><td>20.2187004089355</td><td>18.9563999176025</td><td>17.6756000518799</td><td>17.0820007324219</td><td>16.7618007659912</td></tr>\n",
       "<tr><td>3068522861893067008</td><td>119.21343737767813</td><td>-4.485354724321476</td><td>0.6693719410958845</td><td>0.033468574</td><td>20.000015</td><td>5.4516053</td><td>0.21626197972719696</td><td>0.03316976</td><td>-5.4473141198267845</td><td>0.025266528</td><td>15.70902</td><td>0.9461336</td><td>224.60300015563956</td><td>12.366661573075092</td><td>16.1590003967285</td><td>15.6730003356934</td><td>15.5088996887207</td><td>15.4518995285034</td><td>15.4010000228882</td></tr>\n",
       "<tr><td>6029121570818748416</td><td>257.7177879447965</td><td>-29.116114076786708</td><td>0.7694507536871312</td><td>0.03847251</td><td>20.000015</td><td>2.3471878</td><td>2.111757200719181</td><td>0.051485717</td><td>-1.0245839561066061</td><td>0.03579258</td><td>15.631026</td><td>1.3424559</td><td>355.6401648191539</td><td>6.226829892707236</td><td>16.3715000152588</td><td>15.6569995880127</td><td>15.2902002334595</td><td>15.0460996627808</td><td>14.992600440979</td></tr>\n",
       "<tr><td>...</td><td>...</td><td>...</td><td>...</td><td>...</td><td>...</td><td>...</td><td>...</td><td>...</td><td>...</td><td>...</td><td>...</td><td>...</td><td>...</td><td>...</td><td>...</td><td>...</td><td>...</td><td>...</td><td>...</td></tr>\n",
       "<tr><td>4356260984737548160</td><td>244.0648932761082</td><td>-5.121375800334256</td><td>0.958030293787755</td><td>0.0479011</td><td>20.000174</td><td>15.206692</td><td>-12.50192503217506</td><td>0.058637552</td><td>-8.657098689652496</td><td>0.037994325</td><td>15.936254</td><td>1.2334156</td><td>7.8105047223356046</td><td>30.975703603809844</td><td>16.6240005493164</td><td>15.9074001312256</td><td>15.6202001571655</td><td>15.4755001068115</td><td>15.3842000961304</td></tr>\n",
       "<tr><td>3206189620427075072</td><td>68.64095653488447</td><td>-1.2012690415704093</td><td>1.0207150080144836</td><td>0.051035296</td><td>20.00018</td><td>10.061308</td><td>10.057241288250646</td><td>0.064908214</td><td>-0.2860329152721327</td><td>0.047875877</td><td>16.267973</td><td>1.1480293</td><td>196.89024284646342</td><td>-30.659497791798405</td><td>16.8659992218018</td><td>16.226900100708</td><td>15.9759998321533</td><td>15.8815002441406</td><td>15.7976999282837</td></tr>\n",
       "<tr><td>3684304791406274432</td><td>195.83241828068498</td><td>-3.613047979127279</td><td>4.4425592502563065</td><td>0.22212596</td><td>20.00018</td><td>65.52019</td><td>8.532651676344964</td><td>0.27557382</td><td>-64.96220810022145</td><td>0.22117265</td><td>18.961538</td><td>2.8407555</td><td>308.7209686369554</td><td>59.124971096729546</td><td>21.1501998901367</td><td>19.8528003692627</td><td>18.2045993804932</td><td>17.4752006530762</td><td>17.096700668335</td></tr>\n",
       "<tr><td>3024393722191636736</td><td>90.51023549280406</td><td>-3.563287223737033</td><td>0.9298768546999604</td><td>0.04649342</td><td>20.000183</td><td>6.899054</td><td>6.380787873937509</td><td>0.049394038</td><td>-2.623450479284966</td><td>0.04360597</td><td>14.883199</td><td>1.2689381</td><td>210.46413296566186</td><td>-12.610006577558705</td><td>15.5731000900269</td><td>14.8859996795654</td><td>14.5343999862671</td><td>14.3631000518799</td><td>14.2348003387451</td></tr>\n",
       "<tr><td>4253462213902171904</td><td>279.8738873214446</td><td>-5.967497774363441</td><td>0.9748559879213241</td><td>0.048742354</td><td>20.000183</td><td>7.959421</td><td>4.7163457975438385</td><td>0.054074947</td><td>-6.411588417489278</td><td>0.043376695</td><td>16.036705</td><td>1.9246311</td><td>26.26206317351285</td><td>-0.07461811598947134</td><td>17.3274993896484</td><td>16.1889991760254</td><td>15.4946002960205</td><td>15.1497001647949</td><td>14.8951997756958</td></tr>\n",
       "<tr><td>4259934523388356096</td><td>280.8074517280189</td><td>-1.73785554164301</td><td>0.4312766194387653</td><td>0.021563634</td><td>20.000183</td><td>13.376335</td><td>-4.98763430328297</td><td>0.024516268</td><td>-12.41168188187145</td><td>0.022128362</td><td>14.462498</td><td>2.2988663</td><td>30.449245093327875</td><td>1.0327939792435679</td><td>16.2247009277344</td><td>14.7341995239258</td><td>13.8413000106812</td><td>13.3956003189087</td><td>13.0673999786377</td></tr>\n",
       "<tr><td>6769302666812494464</td><td>288.9417458338823</td><td>-25.75744643844958</td><td>0.36245437890438825</td><td>0.018122546</td><td>20.00019</td><td>8.587938</td><td>-7.578939493703638</td><td>0.01972474</td><td>-4.038856008681038</td><td>0.014242213</td><td>12.2993765</td><td>2.0067253</td><td>11.96183991576334</td><td>-16.444338663768516</td><td>13.7128000259399</td><td>12.7130002975464</td><td>11.9910001754761</td><td>11.5</td><td>11.2480001449585</td></tr>\n",
       "<tr><td>6285108291740824704</td><td>218.89675475040576</td><td>-18.28989604603748</td><td>0.6485589364310425</td><td>0.032427624</td><td>20.000198</td><td>4.8931103</td><td>-4.453527906911019</td><td>0.03299682</td><td>-2.0269728199394264</td><td>0.029458296</td><td>14.865687</td><td>0.87717533</td><td>334.8810214679377</td><td>38.03659344267903</td><td>15.2681999206543</td><td>14.8411998748779</td><td>14.6954002380371</td><td>14.6571998596191</td><td>14.5984001159668</td></tr>\n",
       "<tr><td>6322491171689309312</td><td>230.64446998327483</td><td>-7.126533715195658</td><td>1.9347004363270244</td><td>0.096734054</td><td>20.0002</td><td>18.53176</td><td>16.31600863760916</td><td>0.112408355</td><td>-8.78714713035889</td><td>0.09632617</td><td>16.125809</td><td>1.6852455</td><td>355.34360482777413</td><td>39.893887560597015</td><td>17.1581993103027</td><td>16.0949993133545</td><td>15.5727996826172</td><td>15.3267002105713</td><td>15.1640996932983</td></tr>\n",
       "<tr><td>4220720853490428800</td><td>301.65893134542347</td><td>-5.239108181375233</td><td>1.9462511567386103</td><td>0.097311564</td><td>20.000204</td><td>18.144403</td><td>15.4392166157192</td><td>0.103969276</td><td>-9.531523326800613</td><td>0.07202174</td><td>17.370731</td><td>2.500826</td><td>36.88009523545531</td><td>-19.101541049734607</td><td>19.0974006652832</td><td>17.7693996429443</td><td>16.6289005279541</td><td>16.1208992004395</td><td>15.8605003356934</td></tr>\n",
       "</table>"
      ],
      "text/plain": [
       "<Table masked=True length=100>\n",
       "     source_id              ra         ...  z_mean_psf_mag   y_mean_psf_mag \n",
       "                           deg         ...       mag              mag       \n",
       "       int64             float64       ...     float64          float64     \n",
       "------------------- ------------------ ... ---------------- ----------------\n",
       "4063470555986293632  268.2722690750943 ... 15.6681995391846 15.5841999053955\n",
       "4075924930328092928   279.156157491139 ... 15.8035001754761 15.5785999298096\n",
       "5736155980334693376 137.33281517932804 ... 15.8284997940063 15.7175998687744\n",
       "4079718584693480832  281.1446628064845 ... 15.3905000686646 15.3156003952026\n",
       "5476197758984671488 156.37795558859148 ... 14.6284999847412 14.5935001373291\n",
       "5716198229391345920  113.8214208677862 ... 15.3416996002197  15.266900062561\n",
       "2894901622152885888  97.39404455278382 ... 17.0820007324219 16.7618007659912\n",
       "3068522861893067008 119.21343737767813 ... 15.4518995285034 15.4010000228882\n",
       "6029121570818748416  257.7177879447965 ... 15.0460996627808  14.992600440979\n",
       "                ...                ... ...              ...              ...\n",
       "4356260984737548160  244.0648932761082 ... 15.4755001068115 15.3842000961304\n",
       "3206189620427075072  68.64095653488447 ... 15.8815002441406 15.7976999282837\n",
       "3684304791406274432 195.83241828068498 ... 17.4752006530762  17.096700668335\n",
       "3024393722191636736  90.51023549280406 ... 14.3631000518799 14.2348003387451\n",
       "4253462213902171904  279.8738873214446 ... 15.1497001647949 14.8951997756958\n",
       "4259934523388356096  280.8074517280189 ... 13.3956003189087 13.0673999786377\n",
       "6769302666812494464  288.9417458338823 ...             11.5 11.2480001449585\n",
       "6285108291740824704 218.89675475040576 ... 14.6571998596191 14.5984001159668\n",
       "6322491171689309312 230.64446998327483 ... 15.3267002105713 15.1640996932983\n",
       "4220720853490428800 301.65893134542347 ... 16.1208992004395 15.8605003356934"
      ]
     },
     "execution_count": 58,
     "metadata": {},
     "output_type": "execute_result"
    }
   ],
   "source": [
    "results"
   ]
  },
  {
   "cell_type": "code",
   "execution_count": 59,
   "metadata": {},
   "outputs": [],
   "source": [
    "outname_base='LSST-Gaia-PS1-{min_brightness}-{min_error}-{how_many}.fits'"
   ]
  },
  {
   "cell_type": "code",
   "execution_count": 60,
   "metadata": {},
   "outputs": [],
   "source": [
    "outname=outname_base.format(min_brightness=min_brightness,min_error=min_parallax_ratio,how_many=how_many)"
   ]
  },
  {
   "cell_type": "code",
   "execution_count": 61,
   "metadata": {},
   "outputs": [
    {
     "name": "stdout",
     "output_type": "stream",
     "text": [
      "LSST-Gaia-PS1-12-20-100.fits\n"
     ]
    }
   ],
   "source": [
    "print(outname)"
   ]
  },
  {
   "cell_type": "code",
   "execution_count": 62,
   "metadata": {},
   "outputs": [],
   "source": [
    "results.write(outname, overwrite=True)"
   ]
  },
  {
   "cell_type": "markdown",
   "metadata": {},
   "source": [
    "That's it. The next notebook will read this file (or others!) and make the plots. \n",
    "\n",
    "But let's make one plot to check"
   ]
  },
  {
   "cell_type": "code",
   "execution_count": 63,
   "metadata": {},
   "outputs": [
    {
     "data": {
      "text/plain": [
       "Text(0, 0.5, 'dec (deg ICRS)')"
      ]
     },
     "execution_count": 63,
     "metadata": {},
     "output_type": "execute_result"
    },
    {
     "data": {
      "image/png": "[encoded data removed]",
      "text/plain": [
       "<Figure size 432x288 with 1 Axes>"
      ]
     },
     "metadata": {
      "needs_background": "light"
     },
     "output_type": "display_data"
    }
   ],
   "source": [
    "ra=results['ra']\n",
    "dec=results['dec']\n",
    "\n",
    "plt.plot(ra,dec, 'ko',alpha=0.5,markersize=0.5)\n",
    "plt.xlabel('ra (deg ICRS)')\n",
    "plt.ylabel('dec (deg ICRS)')"
   ]
  },
  {
   "cell_type": "code",
   "execution_count": null,
   "metadata": {},
   "outputs": [],
   "source": []
  }
 ],
 "metadata": {
  "kernelspec": {
   "display_name": "Python 3",
   "language": "python",
   "name": "python3"
  },
  "language_info": {
   "codemirror_mode": {
    "name": "ipython",
    "version": 3
   },
   "file_extension": ".py",
   "mimetype": "text/x-python",
   "name": "python",
   "nbconvert_exporter": "python",
   "pygments_lexer": "ipython3",
   "version": "3.7.4"
  }
 },
 "nbformat": 4,
 "nbformat_minor": 4
}
