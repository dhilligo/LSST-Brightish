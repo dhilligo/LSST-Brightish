{
 "cells": [
  {
   "cell_type": "markdown",
   "metadata": {},
   "source": [
    "This notebook will query/join Gaia and Skymapper to get u,g,r,i,z photometry for bright stars. We'll put the query part in this notebook and develop another notebook to make the plots. "
   ]
  },
  {
   "cell_type": "code",
   "execution_count": 1,
   "metadata": {},
   "outputs": [],
   "source": [
    "import matplotlib.pyplot as plt\n",
    "import numpy as np"
   ]
  },
  {
   "cell_type": "code",
   "execution_count": 2,
   "metadata": {},
   "outputs": [
    {
     "name": "stdout",
     "output_type": "stream",
     "text": [
      "Created TAP+ (v1.2.1) - Connection:\n",
      "\tHost: gea.esac.esa.int\n",
      "\tUse HTTPS: True\n",
      "\tPort: 443\n",
      "\tSSL Port: 443\n",
      "Created TAP+ (v1.2.1) - Connection:\n",
      "\tHost: geadata.esac.esa.int\n",
      "\tUse HTTPS: True\n",
      "\tPort: 443\n",
      "\tSSL Port: 443\n"
     ]
    }
   ],
   "source": [
    "from astroquery.gaia import Gaia \n"
   ]
  },
  {
   "cell_type": "code",
   "execution_count": 3,
   "metadata": {},
   "outputs": [
    {
     "name": "stdout",
     "output_type": "stream",
     "text": [
      "INFO: Retrieving tables... [astroquery.utils.tap.core]\n",
      "INFO: Parsing tables... [astroquery.utils.tap.core]\n",
      "INFO: Done. [astroquery.utils.tap.core]\n"
     ]
    }
   ],
   "source": [
    "tables = Gaia.load_tables(only_names=True)"
   ]
  },
  {
   "cell_type": "code",
   "execution_count": 4,
   "metadata": {},
   "outputs": [
    {
     "name": "stdout",
     "output_type": "stream",
     "text": [
      "external.external.apassdr9\n",
      "external.external.gaiadr2_geometric_distance\n",
      "external.external.galex_ais\n",
      "external.external.ravedr5_com\n",
      "external.external.ravedr5_dr5\n",
      "external.external.ravedr5_gra\n",
      "external.external.ravedr5_on\n",
      "external.external.sdssdr13_photoprimary\n",
      "external.external.skymapperdr1_master\n",
      "external.external.skymapperdr2_master\n",
      "external.external.tmass_xsc\n",
      "public.public.hipparcos\n",
      "public.public.hipparcos_newreduction\n",
      "public.public.hubble_sc\n",
      "public.public.igsl_source\n",
      "public.public.igsl_source_catalog_ids\n",
      "public.public.tycho2\n",
      "public.public.dual\n",
      "tap_config.tap_config.coord_sys\n",
      "tap_config.tap_config.properties\n",
      "tap_schema.tap_schema.columns\n",
      "tap_schema.tap_schema.key_columns\n",
      "tap_schema.tap_schema.keys\n",
      "tap_schema.tap_schema.schemas\n",
      "tap_schema.tap_schema.tables\n",
      "gaiaedr3.gaiaedr3.gaia_source\n",
      "gaiaedr3.gaiaedr3.agn_cross_id\n",
      "gaiaedr3.gaiaedr3.commanded_scan_law\n",
      "gaiaedr3.gaiaedr3.dr2_neighbourhood\n",
      "gaiaedr3.gaiaedr3.frame_rotator_source\n",
      "gaiaedr3.gaiaedr3.hipparcos2_best_neighbour\n",
      "gaiaedr3.gaiaedr3.hipparcos2_neighbourhood\n",
      "gaiaedr3.gaiaedr3.panstarrs1_best_neighbour\n",
      "gaiaedr3.gaiaedr3.panstarrs1_join\n",
      "gaiaedr3.gaiaedr3.panstarrs1_neighbourhood\n",
      "gaiaedr3.gaiaedr3.sdssdr13_best_neighbour\n",
      "gaiaedr3.gaiaedr3.sdssdr13_join\n",
      "gaiaedr3.gaiaedr3.sdssdr13_neighbourhood\n",
      "gaiaedr3.gaiaedr3.skymapperdr2_best_neighbour\n",
      "gaiaedr3.gaiaedr3.skymapperdr2_join\n",
      "gaiaedr3.gaiaedr3.skymapperdr2_neighbourhood\n",
      "gaiaedr3.gaiaedr3.tycho2tdsc_merge_best_neighbour\n",
      "gaiaedr3.gaiaedr3.tycho2tdsc_merge_neighbourhood\n",
      "gaiaedr3.gaiaedr3.urat1_best_neighbour\n",
      "gaiaedr3.gaiaedr3.urat1_neighbourhood\n",
      "gaiaedr3.gaiaedr3.gaia_source_simulation\n",
      "gaiaedr3.gaiaedr3.gaia_universe_model\n",
      "gaiaedr3.gaiaedr3.tycho2tdsc_merge\n",
      "gaiadr1.gaiadr1.aux_qso_icrf2_match\n",
      "gaiadr1.gaiadr1.ext_phot_zero_point\n",
      "gaiadr1.gaiadr1.allwise_best_neighbour\n",
      "gaiadr1.gaiadr1.allwise_neighbourhood\n",
      "gaiadr1.gaiadr1.gsc23_best_neighbour\n",
      "gaiadr1.gaiadr1.gsc23_neighbourhood\n",
      "gaiadr1.gaiadr1.ppmxl_best_neighbour\n",
      "gaiadr1.gaiadr1.ppmxl_neighbourhood\n",
      "gaiadr1.gaiadr1.sdss_dr9_best_neighbour\n",
      "gaiadr1.gaiadr1.sdss_dr9_neighbourhood\n",
      "gaiadr1.gaiadr1.tmass_best_neighbour\n",
      "gaiadr1.gaiadr1.tmass_neighbourhood\n",
      "gaiadr1.gaiadr1.ucac4_best_neighbour\n",
      "gaiadr1.gaiadr1.ucac4_neighbourhood\n",
      "gaiadr1.gaiadr1.urat1_best_neighbour\n",
      "gaiadr1.gaiadr1.urat1_neighbourhood\n",
      "gaiadr1.gaiadr1.cepheid\n",
      "gaiadr1.gaiadr1.phot_variable_time_series_gfov\n",
      "gaiadr1.gaiadr1.phot_variable_time_series_gfov_statistical_parameters\n",
      "gaiadr1.gaiadr1.rrlyrae\n",
      "gaiadr1.gaiadr1.variable_summary\n",
      "gaiadr1.gaiadr1.allwise_original_valid\n",
      "gaiadr1.gaiadr1.gsc23_original_valid\n",
      "gaiadr1.gaiadr1.ppmxl_original_valid\n",
      "gaiadr1.gaiadr1.sdssdr9_original_valid\n",
      "gaiadr1.gaiadr1.tmass_original_valid\n",
      "gaiadr1.gaiadr1.ucac4_original_valid\n",
      "gaiadr1.gaiadr1.urat1_original_valid\n",
      "gaiadr1.gaiadr1.gaia_source\n",
      "gaiadr1.gaiadr1.tgas_source\n",
      "gaiadr2.gaiadr2.aux_allwise_agn_gdr2_cross_id\n",
      "gaiadr2.gaiadr2.aux_iers_gdr2_cross_id\n",
      "gaiadr2.gaiadr2.aux_sso_orbit_residuals\n",
      "gaiadr2.gaiadr2.aux_sso_orbits\n",
      "gaiadr2.gaiadr2.dr1_neighbourhood\n",
      "gaiadr2.gaiadr2.allwise_best_neighbour\n",
      "gaiadr2.gaiadr2.allwise_neighbourhood\n",
      "gaiadr2.gaiadr2.apassdr9_best_neighbour\n",
      "gaiadr2.gaiadr2.apassdr9_neighbourhood\n",
      "gaiadr2.gaiadr2.gsc23_best_neighbour\n",
      "gaiadr2.gaiadr2.gsc23_neighbourhood\n",
      "gaiadr2.gaiadr2.hipparcos2_best_neighbour\n",
      "gaiadr2.gaiadr2.hipparcos2_neighbourhood\n",
      "gaiadr2.gaiadr2.panstarrs1_best_neighbour\n",
      "gaiadr2.gaiadr2.panstarrs1_neighbourhood\n",
      "gaiadr2.gaiadr2.ppmxl_best_neighbour\n",
      "gaiadr2.gaiadr2.ppmxl_neighbourhood\n",
      "gaiadr2.gaiadr2.ravedr5_best_neighbour\n",
      "gaiadr2.gaiadr2.ravedr5_neighbourhood\n",
      "gaiadr2.gaiadr2.sdssdr9_best_neighbour\n",
      "gaiadr2.gaiadr2.sdssdr9_neighbourhood\n",
      "gaiadr2.gaiadr2.tmass_best_neighbour\n",
      "gaiadr2.gaiadr2.tmass_neighbourhood\n",
      "gaiadr2.gaiadr2.tycho2_best_neighbour\n",
      "gaiadr2.gaiadr2.tycho2_neighbourhood\n",
      "gaiadr2.gaiadr2.urat1_best_neighbour\n",
      "gaiadr2.gaiadr2.urat1_neighbourhood\n",
      "gaiadr2.gaiadr2.sso_observation\n",
      "gaiadr2.gaiadr2.sso_source\n",
      "gaiadr2.gaiadr2.vari_cepheid\n",
      "gaiadr2.gaiadr2.vari_classifier_class_definition\n",
      "gaiadr2.gaiadr2.vari_classifier_definition\n",
      "gaiadr2.gaiadr2.vari_classifier_result\n",
      "gaiadr2.gaiadr2.vari_long_period_variable\n",
      "gaiadr2.gaiadr2.vari_rotation_modulation\n",
      "gaiadr2.gaiadr2.vari_rrlyrae\n",
      "gaiadr2.gaiadr2.vari_short_timescale\n",
      "gaiadr2.gaiadr2.vari_time_series_statistics\n",
      "gaiadr2.gaiadr2.panstarrs1_original_valid\n",
      "gaiadr2.gaiadr2.gaia_source\n",
      "gaiadr2.gaiadr2.ruwe\n"
     ]
    }
   ],
   "source": [
    "for table in tables:\n",
    "    print(table.get_qualified_name())"
   ]
  },
  {
   "cell_type": "code",
   "execution_count": 5,
   "metadata": {},
   "outputs": [
    {
     "name": "stdout",
     "output_type": "stream",
     "text": [
      "Retrieving table 'gaiaedr3.gaia_source'\n",
      "Parsing table 'gaiaedr3.gaia_source'...\n",
      "Done.\n"
     ]
    }
   ],
   "source": [
    "meta=Gaia.load_table('gaiaedr3.gaia_source') "
   ]
  },
  {
   "cell_type": "code",
   "execution_count": 6,
   "metadata": {},
   "outputs": [
    {
     "name": "stdout",
     "output_type": "stream",
     "text": [
      "TAP Table name: gaiaedr3.gaiaedr3.gaia_source\n",
      "Description: This table has an entry for every Gaia observed source as listed in the\n",
      "Main Database accumulating catalogue version from which the catalogue\n",
      "release has been generated. It contains the basic source parameters,\n",
      "that is only final data (no epoch data) and no spectra (neither final\n",
      "nor epoch).\n",
      "Num. columns: 99\n"
     ]
    }
   ],
   "source": [
    "print(meta)"
   ]
  },
  {
   "cell_type": "code",
   "execution_count": 7,
   "metadata": {},
   "outputs": [
    {
     "name": "stdout",
     "output_type": "stream",
     "text": [
      "solution_id\n",
      "designation\n",
      "source_id\n",
      "random_index\n",
      "ref_epoch\n",
      "ra\n",
      "ra_error\n",
      "dec\n",
      "dec_error\n",
      "parallax\n",
      "parallax_error\n",
      "parallax_over_error\n",
      "pm\n",
      "pmra\n",
      "pmra_error\n",
      "pmdec\n",
      "pmdec_error\n",
      "ra_dec_corr\n",
      "ra_parallax_corr\n",
      "ra_pmra_corr\n",
      "ra_pmdec_corr\n",
      "dec_parallax_corr\n",
      "dec_pmra_corr\n",
      "dec_pmdec_corr\n",
      "parallax_pmra_corr\n",
      "parallax_pmdec_corr\n",
      "pmra_pmdec_corr\n",
      "astrometric_n_obs_al\n",
      "astrometric_n_obs_ac\n",
      "astrometric_n_good_obs_al\n",
      "astrometric_n_bad_obs_al\n",
      "astrometric_gof_al\n",
      "astrometric_chi2_al\n",
      "astrometric_excess_noise\n",
      "astrometric_excess_noise_sig\n",
      "astrometric_params_solved\n",
      "astrometric_primary_flag\n",
      "nu_eff_used_in_astrometry\n",
      "pseudocolour\n",
      "pseudocolour_error\n",
      "ra_pseudocolour_corr\n",
      "dec_pseudocolour_corr\n",
      "parallax_pseudocolour_corr\n",
      "pmra_pseudocolour_corr\n",
      "pmdec_pseudocolour_corr\n",
      "astrometric_matched_transits\n",
      "visibility_periods_used\n",
      "astrometric_sigma5d_max\n",
      "matched_transits\n",
      "new_matched_transits\n",
      "matched_transits_removed\n",
      "ipd_gof_harmonic_amplitude\n",
      "ipd_gof_harmonic_phase\n",
      "ipd_frac_multi_peak\n",
      "ipd_frac_odd_win\n",
      "ruwe\n",
      "scan_direction_strength_k1\n",
      "scan_direction_strength_k2\n",
      "scan_direction_strength_k3\n",
      "scan_direction_strength_k4\n",
      "scan_direction_mean_k1\n",
      "scan_direction_mean_k2\n",
      "scan_direction_mean_k3\n",
      "scan_direction_mean_k4\n",
      "duplicated_source\n",
      "phot_g_n_obs\n",
      "phot_g_mean_flux\n",
      "phot_g_mean_flux_error\n",
      "phot_g_mean_flux_over_error\n",
      "phot_g_mean_mag\n",
      "phot_bp_n_obs\n",
      "phot_bp_mean_flux\n",
      "phot_bp_mean_flux_error\n",
      "phot_bp_mean_flux_over_error\n",
      "phot_bp_mean_mag\n",
      "phot_rp_n_obs\n",
      "phot_rp_mean_flux\n",
      "phot_rp_mean_flux_error\n",
      "phot_rp_mean_flux_over_error\n",
      "phot_rp_mean_mag\n",
      "phot_bp_n_contaminated_transits\n",
      "phot_bp_n_blended_transits\n",
      "phot_rp_n_contaminated_transits\n",
      "phot_rp_n_blended_transits\n",
      "phot_proc_mode\n",
      "phot_bp_rp_excess_factor\n",
      "bp_rp\n",
      "bp_g\n",
      "g_rp\n",
      "dr2_radial_velocity\n",
      "dr2_radial_velocity_error\n",
      "dr2_rv_nb_transits\n",
      "dr2_rv_template_teff\n",
      "dr2_rv_template_logg\n",
      "dr2_rv_template_fe_h\n",
      "l\n",
      "b\n",
      "ecl_lon\n",
      "ecl_lat\n"
     ]
    }
   ],
   "source": [
    "for column in meta.columns:\n",
    "    print(column.name)"
   ]
  },
  {
   "cell_type": "code",
   "execution_count": 8,
   "metadata": {},
   "outputs": [
    {
     "name": "stdout",
     "output_type": "stream",
     "text": [
      "Retrieving table 'gaiaedr3.skymapperdr2_best_neighbour'\n",
      "Parsing table 'gaiaedr3.skymapperdr2_best_neighbour'...\n",
      "Done.\n",
      "source_id\n",
      "original_ext_source_id\n",
      "angular_distance\n",
      "number_of_neighbours\n",
      "number_of_mates\n",
      "xm_flag\n"
     ]
    }
   ],
   "source": [
    "meta2=Gaia.load_table('gaiaedr3.skymapperdr2_best_neighbour')\n",
    "for column in meta2.columns:\n",
    "    print(column.name)"
   ]
  },
  {
   "cell_type": "code",
   "execution_count": 9,
   "metadata": {},
   "outputs": [
    {
     "name": "stdout",
     "output_type": "stream",
     "text": [
      "Retrieving table 'external.skymapperdr2_master'\n",
      "Parsing table 'external.skymapperdr2_master'...\n",
      "Done.\n",
      "object_id\n",
      "raj2000\n",
      "dej2000\n",
      "e_raj2000\n",
      "e_dej2000\n",
      "smss_j\n",
      "mean_epoch\n",
      "rms_epoch\n",
      "glon\n",
      "glat\n",
      "flags\n",
      "nimaflags\n",
      "ngood\n",
      "ngood_min\n",
      "nch_max\n",
      "density\n",
      "u_flags\n",
      "u_nimaflags\n",
      "u_ngood\n",
      "u_nch\n",
      "u_nclip\n",
      "v_flags\n",
      "v_nimaflags\n",
      "v_ngood\n",
      "v_nch\n",
      "v_nclip\n",
      "g_flags\n",
      "g_nimaflags\n",
      "g_ngood\n",
      "g_nch\n",
      "g_nclip\n",
      "r_flags\n",
      "r_nimaflags\n",
      "r_ngood\n",
      "r_nch\n",
      "r_nclip\n",
      "i_flags\n",
      "i_nimaflags\n",
      "i_ngood\n",
      "i_nch\n",
      "i_nclip\n",
      "z_flags\n",
      "z_nimaflags\n",
      "z_ngood\n",
      "z_nch\n",
      "z_nclip\n",
      "class_star\n",
      "flags_psf\n",
      "radius_petro\n",
      "u_psf\n",
      "e_u_psf\n",
      "u_rchi2var\n",
      "u_petro\n",
      "e_u_petro\n",
      "v_psf\n",
      "e_v_psf\n",
      "v_rchi2var\n",
      "v_petro\n",
      "e_v_petro\n",
      "g_psf\n",
      "e_g_psf\n",
      "g_rchi2var\n",
      "g_petro\n",
      "e_g_petro\n",
      "r_psf\n",
      "e_r_psf\n",
      "r_rchi2var\n",
      "r_petro\n",
      "e_r_petro\n",
      "i_psf\n",
      "e_i_psf\n",
      "i_rchi2var\n",
      "i_petro\n",
      "e_i_petro\n",
      "z_psf\n",
      "e_z_psf\n",
      "z_rchi2var\n",
      "z_petro\n",
      "e_z_petro\n",
      "ebmv_sfd\n",
      "prox\n",
      "prox_id\n",
      "dr1_id\n",
      "dr1_dist\n",
      "twomass_key\n",
      "twomass_dist\n",
      "allwise_cntr\n",
      "allwise_dist\n",
      "ucac4_mpos\n",
      "ucac4_dist\n",
      "refcat2_id\n",
      "refcat2_dist\n",
      "ps1_dr1_id\n",
      "ps1_dr1_dist\n",
      "galex_guv_id\n",
      "galex_guv_dist\n",
      "gaia_dr2_id1\n",
      "gaia_dr2_dist1\n",
      "gaia_dr2_id2\n",
      "gaia_dr2_dist2\n"
     ]
    }
   ],
   "source": [
    "meta3=Gaia.load_table('external.skymapperdr2_master')\n",
    "for column in meta3.columns:\n",
    "    print(column.name)"
   ]
  },
  {
   "cell_type": "code",
   "execution_count": 43,
   "metadata": {},
   "outputs": [],
   "source": [
    "# set limits for query\n",
    "min_parallax_ratio = 20\n",
    "min_brightness = 12\n",
    "how_many = 5000\n",
    "#dec<0 is hardcoded right now. No ra limit but could add"
   ]
  },
  {
   "cell_type": "code",
   "execution_count": 44,
   "metadata": {},
   "outputs": [],
   "source": [
    "query_sm_base=\"\"\"select TOP {how_many}\n",
    "  gaiaedr3.gaia_source.source_id,\n",
    "  gaiaedr3.gaia_source.ra,\n",
    "  gaiaedr3.gaia_source.dec,\n",
    "  gaiaedr3.gaia_source.parallax,\n",
    "  gaiaedr3.gaia_source.parallax_over_error,\n",
    "  gaiaedr3.gaia_source.phot_g_mean_mag,\n",
    "  gaiaedr3.gaia_source.bp_rp,\n",
    "  gaiaedr3.gaia_source.l,\n",
    "  gaiaedr3.gaia_source.b,\n",
    "  sm.u_psf,\n",
    "  sm.g_psf,\n",
    "  sm.r_psf,\n",
    "  sm.i_psf,\n",
    "  sm.z_psf\n",
    "from gaiaedr3.gaia_source \n",
    "-- SkyMapper\n",
    "join gaiaedr3.skymapperdr2_best_neighbour\n",
    "  on gaiaedr3.skymapperdr2_best_neighbour.source_id=gaiaedr3.gaia_source.source_id\n",
    "join external.skymapperdr2_master as sm\n",
    "  on sm.object_id = gaiaedr3.skymapperdr2_best_neighbour.original_ext_source_id\n",
    "WHERE\n",
    " gaiaedr3.gaia_source.parallax_over_error > {min_error} and\n",
    " gaiaedr3.gaia_source.dec < 0 and\n",
    " gaiaedr3.gaia_source.phot_g_mean_mag > {min_brightness}\n",
    "\"\"\"\n",
    "\n"
   ]
  },
  {
   "cell_type": "code",
   "execution_count": 45,
   "metadata": {},
   "outputs": [],
   "source": [
    "query_sm = query_sm_base.format(how_many=how_many,min_brightness=min_brightness,min_error=min_parallax_ratio)"
   ]
  },
  {
   "cell_type": "code",
   "execution_count": 46,
   "metadata": {},
   "outputs": [
    {
     "name": "stdout",
     "output_type": "stream",
     "text": [
      "select TOP 5000\n",
      "  gaiaedr3.gaia_source.source_id,\n",
      "  gaiaedr3.gaia_source.ra,\n",
      "  gaiaedr3.gaia_source.dec,\n",
      "  gaiaedr3.gaia_source.parallax,\n",
      "  gaiaedr3.gaia_source.parallax_over_error,\n",
      "  gaiaedr3.gaia_source.phot_g_mean_mag,\n",
      "  gaiaedr3.gaia_source.bp_rp,\n",
      "  gaiaedr3.gaia_source.l,\n",
      "  gaiaedr3.gaia_source.b,\n",
      "  sm.u_psf,\n",
      "  sm.g_psf,\n",
      "  sm.r_psf,\n",
      "  sm.i_psf,\n",
      "  sm.z_psf\n",
      "from gaiaedr3.gaia_source \n",
      "-- SkyMapper\n",
      "join gaiaedr3.skymapperdr2_best_neighbour\n",
      "  on gaiaedr3.skymapperdr2_best_neighbour.source_id=gaiaedr3.gaia_source.source_id\n",
      "join external.skymapperdr2_master as sm\n",
      "  on sm.object_id = gaiaedr3.skymapperdr2_best_neighbour.original_ext_source_id\n",
      "WHERE\n",
      " gaiaedr3.gaia_source.parallax_over_error > 20 and\n",
      " gaiaedr3.gaia_source.dec < 0 and\n",
      " gaiaedr3.gaia_source.phot_g_mean_mag > 12\n",
      "\n"
     ]
    }
   ],
   "source": [
    "print(query_sm)"
   ]
  },
  {
   "cell_type": "code",
   "execution_count": 47,
   "metadata": {},
   "outputs": [
    {
     "name": "stdout",
     "output_type": "stream",
     "text": [
      "INFO: Query finished. [astroquery.utils.tap.core]\n"
     ]
    }
   ],
   "source": [
    "job  = Gaia.launch_job_async(query_sm)\n"
   ]
  },
  {
   "cell_type": "code",
   "execution_count": 48,
   "metadata": {},
   "outputs": [],
   "source": [
    "results=job.get_results()"
   ]
  },
  {
   "cell_type": "code",
   "execution_count": 49,
   "metadata": {
    "scrolled": true
   },
   "outputs": [
    {
     "data": {
      "text/html": [
       "<i>Table length=5000</i>\n",
       "<table id=\"table140453396247632\" class=\"table-striped table-bordered table-condensed\">\n",
       "<thead><tr><th>source_id</th><th>ra</th><th>dec</th><th>parallax</th><th>parallax_over_error</th><th>phot_g_mean_mag</th><th>bp_rp</th><th>l</th><th>b</th><th>u_psf</th><th>g_psf</th><th>r_psf</th><th>i_psf</th><th>z_psf</th></tr></thead>\n",
       "<thead><tr><th></th><th>deg</th><th>deg</th><th>mas</th><th></th><th>mag</th><th>mag</th><th>deg</th><th>deg</th><th>mag</th><th>mag</th><th>mag</th><th>mag</th><th>mag</th></tr></thead>\n",
       "<thead><tr><th>int64</th><th>float64</th><th>float64</th><th>float64</th><th>float32</th><th>float32</th><th>float32</th><th>float64</th><th>float64</th><th>float32</th><th>float32</th><th>float32</th><th>float32</th><th>float32</th></tr></thead>\n",
       "<tr><td>6369569510812755328</td><td>307.0808184296253</td><td>-75.54952887907417</td><td>3.100122673346884</td><td>20.000002</td><td>18.305372</td><td>3.0930977</td><td>318.5306996024935</td><td>-32.18627182913157</td><td>--</td><td>--</td><td>--</td><td>17.4376</td><td>16.6269</td></tr>\n",
       "<tr><td>5822406207933947264</td><td>236.54216258347256</td><td>-66.30744332699442</td><td>0.4578570640490629</td><td>20.000004</td><td>15.0276575</td><td>0.7333164</td><td>319.25786723502785</td><td>-9.14461214365005</td><td>16.596</td><td>15.2752</td><td>15.06</td><td>14.9433</td><td>14.9023</td></tr>\n",
       "<tr><td>5535370966536274944</td><td>114.72880781054464</td><td>-42.92727782966175</td><td>1.0034601702807633</td><td>20.000004</td><td>17.023443</td><td>1.6553192</td><td>256.21332989828824</td><td>-10.167229414296013</td><td>--</td><td>17.9262</td><td>17.1761</td><td>16.5147</td><td>16.2118</td></tr>\n",
       "<tr><td>4063470555986293632</td><td>268.2722690750943</td><td>-27.840792649974965</td><td>0.8603942336373175</td><td>20.000006</td><td>16.057327</td><td>1.2159605</td><td>1.7844034336897427</td><td>-0.8451794430770536</td><td>--</td><td>16.5819</td><td>16.0633</td><td>15.7223</td><td>15.5719</td></tr>\n",
       "<tr><td>4075924930328092928</td><td>279.156157491139</td><td>-26.245544915444775</td><td>1.8075668270434355</td><td>20.000006</td><td>16.76521</td><td>2.018447</td><td>7.794098821232397</td><td>-8.631934819903805</td><td>--</td><td>18.0061</td><td>16.9165</td><td>16.0774</td><td>15.7234</td></tr>\n",
       "<tr><td>5998972450905257728</td><td>232.4507551076889</td><td>-46.81400727988406</td><td>0.7060744679049201</td><td>20.000006</td><td>15.408483</td><td>0.9796734</td><td>329.0547931790715</td><td>7.867881096379992</td><td>17.1576</td><td>15.8283</td><td>--</td><td>--</td><td>--</td></tr>\n",
       "<tr><td>5736155980334693376</td><td>137.33281517932804</td><td>-11.695644712582691</td><td>1.1258811864223772</td><td>20.000008</td><td>16.370586</td><td>1.4076071</td><td>241.14813245685508</td><td>23.632003038318526</td><td>--</td><td>17.0417</td><td>16.4131</td><td>15.9575</td><td>15.7778</td></tr>\n",
       "<tr><td>5969496640142194432</td><td>250.46952778938714</td><td>-39.13549871225904</td><td>0.7965530986366196</td><td>20.00001</td><td>15.659661</td><td>1.3556786</td><td>344.01809633910796</td><td>4.7032384357999595</td><td>18.4516</td><td>16.2913</td><td>--</td><td>15.2893</td><td>15.0855</td></tr>\n",
       "<tr><td>4079718584693480832</td><td>281.1446628064845</td><td>-21.726908891576173</td><td>0.8128454435085273</td><td>20.00001</td><td>15.855675</td><td>1.2226267</td><td>12.704906587571381</td><td>-8.282666418301567</td><td>18.1387</td><td>16.3977</td><td>15.8762</td><td>15.5227</td><td>15.3542</td></tr>\n",
       "<tr><td>...</td><td>...</td><td>...</td><td>...</td><td>...</td><td>...</td><td>...</td><td>...</td><td>...</td><td>...</td><td>...</td><td>...</td><td>...</td><td>...</td></tr>\n",
       "<tr><td>5228922885303883392</td><td>160.03814095962576</td><td>-73.63294582708546</td><td>1.2192184523630345</td><td>20.003656</td><td>17.368315</td><td>1.7615395</td><td>293.90950844448054</td><td>-13.105855839203352</td><td>--</td><td>18.1544</td><td>17.4272</td><td>16.7802</td><td>16.4631</td></tr>\n",
       "<tr><td>5690941347780831104</td><td>147.4374880673646</td><td>-12.743730348230002</td><td>0.7639000626484515</td><td>20.003662</td><td>15.702115</td><td>1.0350056</td><td>249.1322148685317</td><td>30.57668349237383</td><td>--</td><td>16.078</td><td>15.6836</td><td>15.4449</td><td>15.3574</td></tr>\n",
       "<tr><td>4733993428455175680</td><td>51.52249137229705</td><td>-54.85440720040942</td><td>0.7339079635308556</td><td>20.003664</td><td>16.444893</td><td>1.1095629</td><td>268.40652295641013</td><td>-50.61471690439193</td><td>--</td><td>16.8841</td><td>16.4514</td><td>16.163</td><td>16.0788</td></tr>\n",
       "<tr><td>4153956132329432576</td><td>273.645660696086</td><td>-11.496398997349507</td><td>1.464216651387294</td><td>20.003664</td><td>16.926588</td><td>2.1301928</td><td>18.50033754223549</td><td>2.7951232215325676</td><td>--</td><td>--</td><td>17.1905</td><td>16.2507</td><td>15.8211</td></tr>\n",
       "<tr><td>4259086250155841408</td><td>281.42227507474075</td><td>-2.4964971642552793</td><td>1.3578722029454307</td><td>20.003664</td><td>16.561586</td><td>2.3550463</td><td>30.054901343979704</td><td>0.13974535428266613</td><td>--</td><td>17.9977</td><td>16.8754</td><td>15.8743</td><td>15.3202</td></tr>\n",
       "<tr><td>5238888854402523392</td><td>160.46347018058904</td><td>-67.33153183299385</td><td>0.9717656694755373</td><td>20.003664</td><td>16.740145</td><td>1.6264696</td><td>290.9101765121838</td><td>-7.535589374745602</td><td>--</td><td>17.6044</td><td>16.8047</td><td>16.1947</td><td>15.9228</td></tr>\n",
       "<tr><td>4104716776211574016</td><td>279.26103688619224</td><td>-13.136053634746082</td><td>0.32888792747140483</td><td>20.003664</td><td>13.178585</td><td>2.5085478</td><td>19.610590831712532</td><td>-2.821910971609876</td><td>--</td><td>14.8432</td><td>13.5994</td><td>12.4683</td><td>11.8802</td></tr>\n",
       "<tr><td>5895521910124458368</td><td>212.1853398983255</td><td>-56.08589347361996</td><td>0.5370585212548923</td><td>20.003666</td><td>15.025636</td><td>0.9936657</td><td>313.61657080999424</td><td>5.173850751870663</td><td>16.7939</td><td>15.4349</td><td>15.0635</td><td>14.806</td><td>14.7119</td></tr>\n",
       "<tr><td>5303931328043880960</td><td>135.42205914063837</td><td>-57.27838866803773</td><td>0.5692453848607939</td><td>20.003668</td><td>15.897942</td><td>1.0751972</td><td>275.59850686970617</td><td>-7.162847936941208</td><td>--</td><td>16.3549</td><td>15.9256</td><td>15.6354</td><td>15.5076</td></tr>\n",
       "<tr><td>6655500632059610240</td><td>277.31387779372034</td><td>-51.573830284903</td><td>1.8881403097764222</td><td>20.00367</td><td>17.525873</td><td>2.3302631</td><td>343.4190949572513</td><td>-17.684088364764655</td><td>--</td><td>--</td><td>17.97</td><td>16.785</td><td>16.3117</td></tr>\n",
       "</table>"
      ],
      "text/plain": [
       "<Table length=5000>\n",
       "     source_id              ra                 dec         ...  i_psf   z_psf \n",
       "                           deg                 deg         ...   mag     mag  \n",
       "       int64             float64             float64       ... float32 float32\n",
       "------------------- ------------------ ------------------- ... ------- -------\n",
       "6369569510812755328  307.0808184296253  -75.54952887907417 ... 17.4376 16.6269\n",
       "5822406207933947264 236.54216258347256  -66.30744332699442 ... 14.9433 14.9023\n",
       "5535370966536274944 114.72880781054464  -42.92727782966175 ... 16.5147 16.2118\n",
       "4063470555986293632  268.2722690750943 -27.840792649974965 ... 15.7223 15.5719\n",
       "4075924930328092928   279.156157491139 -26.245544915444775 ... 16.0774 15.7234\n",
       "5998972450905257728  232.4507551076889  -46.81400727988406 ...      --      --\n",
       "5736155980334693376 137.33281517932804 -11.695644712582691 ... 15.9575 15.7778\n",
       "5969496640142194432 250.46952778938714  -39.13549871225904 ... 15.2893 15.0855\n",
       "4079718584693480832  281.1446628064845 -21.726908891576173 ... 15.5227 15.3542\n",
       "                ...                ...                 ... ...     ...     ...\n",
       "5228922885303883392 160.03814095962576  -73.63294582708546 ... 16.7802 16.4631\n",
       "5690941347780831104  147.4374880673646 -12.743730348230002 ... 15.4449 15.3574\n",
       "4733993428455175680  51.52249137229705  -54.85440720040942 ...  16.163 16.0788\n",
       "4153956132329432576   273.645660696086 -11.496398997349507 ... 16.2507 15.8211\n",
       "4259086250155841408 281.42227507474075 -2.4964971642552793 ... 15.8743 15.3202\n",
       "5238888854402523392 160.46347018058904  -67.33153183299385 ... 16.1947 15.9228\n",
       "4104716776211574016 279.26103688619224 -13.136053634746082 ... 12.4683 11.8802\n",
       "5895521910124458368  212.1853398983255  -56.08589347361996 ...  14.806 14.7119\n",
       "5303931328043880960 135.42205914063837  -57.27838866803773 ... 15.6354 15.5076\n",
       "6655500632059610240 277.31387779372034    -51.573830284903 ...  16.785 16.3117"
      ]
     },
     "execution_count": 49,
     "metadata": {},
     "output_type": "execute_result"
    }
   ],
   "source": [
    "results"
   ]
  },
  {
   "cell_type": "code",
   "execution_count": 50,
   "metadata": {},
   "outputs": [],
   "source": [
    "outname_base='LSST-Gaia-SM-{min_brightness}-{min_error}-{how_many}.fits'"
   ]
  },
  {
   "cell_type": "code",
   "execution_count": 51,
   "metadata": {},
   "outputs": [],
   "source": [
    "outname=outname_base.format(min_brightness=min_brightness,min_error=min_parallax_ratio,how_many=how_many)"
   ]
  },
  {
   "cell_type": "code",
   "execution_count": 52,
   "metadata": {},
   "outputs": [
    {
     "name": "stdout",
     "output_type": "stream",
     "text": [
      "LSST-Gaia-SM-12-20-5000.fits\n"
     ]
    }
   ],
   "source": [
    "print(outname)"
   ]
  },
  {
   "cell_type": "code",
   "execution_count": 53,
   "metadata": {},
   "outputs": [],
   "source": [
    "results.write(outname, overwrite=True)"
   ]
  },
  {
   "cell_type": "markdown",
   "metadata": {},
   "source": [
    "That's it. The next notebook will read this file (or others!) and make the plots. \n",
    "\n",
    "But let's make one plot to check"
   ]
  },
  {
   "cell_type": "code",
   "execution_count": 54,
   "metadata": {},
   "outputs": [
    {
     "data": {
      "text/plain": [
       "Text(0, 0.5, 'dec (deg ICRS)')"
      ]
     },
     "execution_count": 54,
     "metadata": {},
     "output_type": "execute_result"
    },
    {
     "data": {
      "image/png": "[encoded data removed]",
      "text/plain": [
       "<Figure size 432x288 with 1 Axes>"
      ]
     },
     "metadata": {
      "needs_background": "light"
     },
     "output_type": "display_data"
    }
   ],
   "source": [
    "ra=results['ra']\n",
    "dec=results['dec']\n",
    "\n",
    "plt.plot(ra,dec, 'ko',alpha=0.5,markersize=0.5)\n",
    "plt.xlabel('ra (deg ICRS)')\n",
    "plt.ylabel('dec (deg ICRS)')"
   ]
  },
  {
   "cell_type": "code",
   "execution_count": null,
   "metadata": {},
   "outputs": [],
   "source": []
  }
 ],
 "metadata": {
  "kernelspec": {
   "display_name": "Python 3",
   "language": "python",
   "name": "python3"
  },
  "language_info": {
   "codemirror_mode": {
    "name": "ipython",
    "version": 3
   },
   "file_extension": ".py",
   "mimetype": "text/x-python",
   "name": "python",
   "nbconvert_exporter": "python",
   "pygments_lexer": "ipython3",
   "version": "3.7.7"
  }
 },
 "nbformat": 4,
 "nbformat_minor": 4
}
